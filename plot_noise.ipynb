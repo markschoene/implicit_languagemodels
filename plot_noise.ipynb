{
 "cells": [
  {
   "cell_type": "code",
   "execution_count": null,
   "id": "d7d019f7",
   "metadata": {},
   "outputs": [],
   "source": [
    "import json\n",
    "import matplotlib.pyplot as plt\n",
    "import numpy as np\n",
    "import os\n",
    "import pandas as pd\n",
    "import seaborn as sns"
   ]
  },
  {
   "cell_type": "code",
   "execution_count": null,
   "id": "da41b896",
   "metadata": {},
   "outputs": [],
   "source": [
    "rows = []\n",
    "for file in os.listdir('noise_results/data'):\n",
    "    if file.endswith('.json'):\n",
    "        with open(os.path.join('noise_results/data', file), 'r') as f:\n",
    "            data = json.load(f)\n",
    "        rows.append(data)\n",
    "\n",
    "df = pd.DataFrame(rows)"
   ]
  },
  {
   "cell_type": "code",
   "execution_count": null,
   "id": "a2fc639b",
   "metadata": {},
   "outputs": [],
   "source": [
    "for key in ['state_noise_db', 'latent_noise_db']:\n",
    "    df[key][df[key] == 0.0] = 100.0"
   ]
  },
  {
   "cell_type": "code",
   "execution_count": null,
   "id": "008fc1db",
   "metadata": {},
   "outputs": [],
   "source": [
    "fig, axes = plt.subplots(1, 2, figsize=(10, 4))\n",
    "\n",
    "for i, (model, group) in enumerate(df.groupby('model_name')):\n",
    "    if 'implicit' in model: continue\n",
    "    for j, (noise_mode, sub_group) in enumerate(group.groupby('noise_mode')):\n",
    "        # plot 2D matrix of latent and state noise with accuracy as z values\n",
    "        pivot_table = sub_group.pivot_table(\n",
    "            index='state_noise_db', \n",
    "            columns='latent_noise_db', \n",
    "            values='average_accuracy', \n",
    "            aggfunc='mean'\n",
    "        )\n",
    "        # Use vmin and vmax to set color scale limits\n",
    "        sns.heatmap(pivot_table, ax=axes[j], cmap='YlOrRd', vmin=0, vmax=.6)\n",
    "\n",
    "        axes[j].set_title(f\"{model.replace('hf_models/mamba2-130m-', '')} - {noise_mode}\")\n",
    "        axes[j].set_xlabel('Latent Noise (dB)')\n",
    "        axes[j].set_ylabel('State Noise (dB)')\n",
    "    \n",
    "    fig.tight_layout()"
   ]
  },
  {
   "cell_type": "code",
   "execution_count": null,
   "id": "bcd3e10e",
   "metadata": {},
   "outputs": [],
   "source": [
    "fig, axes = plt.subplots(2, 2, figsize=(10, 8))\n",
    "\n",
    "for i, (model, group) in enumerate(df.groupby('model_name')):\n",
    "    for j, (noise_mode, sub_group) in enumerate(group.groupby('noise_mode')):\n",
    "        # plot 2D matrix of latent and state noise with accuracy as z values\n",
    "        pivot_table = sub_group.pivot_table(\n",
    "            index='state_noise_db', \n",
    "            columns='latent_noise_db', \n",
    "            values='average_accuracy', \n",
    "            aggfunc='mean'\n",
    "        )\n",
    "        # Use vmin and vmax to set color scale limits\n",
    "        sns.heatmap(pivot_table, ax=axes[i,j], cmap='YlOrRd', vmin=0, vmax=.6)\n",
    "\n",
    "        axes[i,j].set_title(f\"{model.replace('hf_models/mamba2-130m-', '')} - {noise_mode}\")\n",
    "        axes[i,j].set_xlabel('Latent Noise (dB)')\n",
    "        axes[i,j].set_ylabel('State Noise (dB)')\n",
    "    \n",
    "    fig.tight_layout()"
   ]
  },
  {
   "cell_type": "code",
   "execution_count": null,
   "id": "a9131dd7",
   "metadata": {},
   "outputs": [],
   "source": []
  }
 ],
 "metadata": {
  "kernelspec": {
   "display_name": "Python 3 (ipykernel)",
   "language": "python",
   "name": "python3"
  },
  "language_info": {
   "codemirror_mode": {
    "name": "ipython",
    "version": 3
   },
   "file_extension": ".py",
   "mimetype": "text/x-python",
   "name": "python",
   "nbconvert_exporter": "python",
   "pygments_lexer": "ipython3",
   "version": "3.10.12"
  }
 },
 "nbformat": 4,
 "nbformat_minor": 5
}
